{
  "nbformat": 4,
  "nbformat_minor": 0,
  "metadata": {
    "colab": {
      "name": "task2.ipynb",
      "provenance": [],
      "collapsed_sections": []
    },
    "kernelspec": {
      "name": "python3",
      "display_name": "Python 3"
    },
    "language_info": {
      "name": "python"
    }
  },
  "cells": [
    {
      "cell_type": "markdown",
      "metadata": {
        "id": "p1l6Q9vjDEmq"
      },
      "source": [
        "## Задание 2\n",
        "\n",
        "Исследуйте данные с помощью pandas. Посмотрите на признаки и их распределения. (Например, постройте график распределения автомобилей по годам, типу топлива и т.д.)\n",
        "* 1) Кластеризуйте данные с помощью KMeans из sklearn.clustering.\n",
        "* 2) Найдите оптимальное число кластеров\n",
        "* 3) Произведите анализ получившихся кластеров:"
      ]
    },
    {
      "cell_type": "code",
      "metadata": {
        "id": "2xPdGI56DEmr",
        "colab": {
          "base_uri": "https://localhost:8080/",
          "height": 204
        },
        "outputId": "2f95dff2-638e-40b7-9366-8254536c2a27"
      },
      "source": [
        "import pandas as pd\n",
        "import numpy as np\n",
        "import matplotlib.pyplot as plt\n",
        "import seaborn as sns\n",
        "\n",
        "from sklearn.cluster import KMeans\n",
        "from sklearn.compose import ColumnTransformer\n",
        "from sklearn.preprocessing import StandardScaler, OneHotEncoder, LabelEncoder\n",
        "from sklearn.pipeline import Pipeline\n",
        "\n",
        "df_data = 'https://raw.githubusercontent.com/julia-komleva/ml-course-2021/main/data/2.csv'\n",
        "df = pd.read_csv(df_data, encoding='cp1251')\n",
        "df = df.drop(columns=['Модель', 'Цвет'])\n",
        "df.head()"
      ],
      "execution_count": 1,
      "outputs": [
        {
          "output_type": "execute_result",
          "data": {
            "text/html": [
              "<div>\n",
              "<style scoped>\n",
              "    .dataframe tbody tr th:only-of-type {\n",
              "        vertical-align: middle;\n",
              "    }\n",
              "\n",
              "    .dataframe tbody tr th {\n",
              "        vertical-align: top;\n",
              "    }\n",
              "\n",
              "    .dataframe thead th {\n",
              "        text-align: right;\n",
              "    }\n",
              "</style>\n",
              "<table border=\"1\" class=\"dataframe\">\n",
              "  <thead>\n",
              "    <tr style=\"text-align: right;\">\n",
              "      <th></th>\n",
              "      <th>Марка</th>\n",
              "      <th>Год</th>\n",
              "      <th>Состояние</th>\n",
              "      <th>Пробег</th>\n",
              "      <th>Объем</th>\n",
              "      <th>Топливо</th>\n",
              "      <th>Мощность</th>\n",
              "      <th>Кузов</th>\n",
              "      <th>Привод</th>\n",
              "      <th>КПП</th>\n",
              "      <th>Руль</th>\n",
              "      <th>Хозяев в ПТС</th>\n",
              "      <th>Цена</th>\n",
              "    </tr>\n",
              "  </thead>\n",
              "  <tbody>\n",
              "    <tr>\n",
              "      <th>0</th>\n",
              "      <td>Volkswagen</td>\n",
              "      <td>2013.0</td>\n",
              "      <td>БУ</td>\n",
              "      <td>42000.0</td>\n",
              "      <td>1200.0</td>\n",
              "      <td>бензин</td>\n",
              "      <td>105.0</td>\n",
              "      <td>хэтчбек</td>\n",
              "      <td>передний</td>\n",
              "      <td>автомат</td>\n",
              "      <td>левый</td>\n",
              "      <td>1 владелец</td>\n",
              "      <td>689196.0</td>\n",
              "    </tr>\n",
              "    <tr>\n",
              "      <th>1</th>\n",
              "      <td>Skoda</td>\n",
              "      <td>2012.0</td>\n",
              "      <td>БУ</td>\n",
              "      <td>62000.0</td>\n",
              "      <td>1800.0</td>\n",
              "      <td>бензин</td>\n",
              "      <td>152.0</td>\n",
              "      <td>кроссовер</td>\n",
              "      <td>полный</td>\n",
              "      <td>механика</td>\n",
              "      <td>левый</td>\n",
              "      <td>1 владелец</td>\n",
              "      <td>639196.0</td>\n",
              "    </tr>\n",
              "    <tr>\n",
              "      <th>2</th>\n",
              "      <td>Renault</td>\n",
              "      <td>2015.0</td>\n",
              "      <td>БУ</td>\n",
              "      <td>4700.0</td>\n",
              "      <td>1600.0</td>\n",
              "      <td>бензин</td>\n",
              "      <td>106.0</td>\n",
              "      <td>хэтчбек</td>\n",
              "      <td>передний</td>\n",
              "      <td>механика</td>\n",
              "      <td>левый</td>\n",
              "      <td>1 владелец</td>\n",
              "      <td>629196.0</td>\n",
              "    </tr>\n",
              "    <tr>\n",
              "      <th>3</th>\n",
              "      <td>Nissan</td>\n",
              "      <td>2012.0</td>\n",
              "      <td>БУ</td>\n",
              "      <td>70000.0</td>\n",
              "      <td>1600.0</td>\n",
              "      <td>бензин</td>\n",
              "      <td>110.0</td>\n",
              "      <td>хэтчбек</td>\n",
              "      <td>передний</td>\n",
              "      <td>автомат</td>\n",
              "      <td>левый</td>\n",
              "      <td>1 владелец</td>\n",
              "      <td>479196.0</td>\n",
              "    </tr>\n",
              "    <tr>\n",
              "      <th>4</th>\n",
              "      <td>УАЗ</td>\n",
              "      <td>2014.0</td>\n",
              "      <td>БУ</td>\n",
              "      <td>50000.0</td>\n",
              "      <td>2700.0</td>\n",
              "      <td>бензин</td>\n",
              "      <td>128.0</td>\n",
              "      <td>внедорожник</td>\n",
              "      <td>полный</td>\n",
              "      <td>механика</td>\n",
              "      <td>левый</td>\n",
              "      <td>1 владелец</td>\n",
              "      <td>599196.0</td>\n",
              "    </tr>\n",
              "  </tbody>\n",
              "</table>\n",
              "</div>"
            ],
            "text/plain": [
              "        Марка     Год Состояние  ...   Руль  Хозяев в ПТС      Цена\n",
              "0  Volkswagen  2013.0        БУ  ...  левый    1 владелец  689196.0\n",
              "1       Skoda  2012.0        БУ  ...  левый    1 владелец  639196.0\n",
              "2     Renault  2015.0        БУ  ...  левый    1 владелец  629196.0\n",
              "3      Nissan  2012.0        БУ  ...  левый    1 владелец  479196.0\n",
              "4         УАЗ  2014.0        БУ  ...  левый    1 владелец  599196.0\n",
              "\n",
              "[5 rows x 13 columns]"
            ]
          },
          "metadata": {},
          "execution_count": 1
        }
      ]
    },
    {
      "cell_type": "code",
      "metadata": {
        "id": "g-jCL7t-DEms",
        "colab": {
          "base_uri": "https://localhost:8080/"
        },
        "outputId": "bf2e924a-0e50-4225-882f-581c36a182a9"
      },
      "source": [
        "df.info()"
      ],
      "execution_count": 2,
      "outputs": [
        {
          "output_type": "stream",
          "name": "stdout",
          "text": [
            "<class 'pandas.core.frame.DataFrame'>\n",
            "Int64Index: 35019 entries, 0 to 61065\n",
            "Data columns (total 13 columns):\n",
            " #   Column        Non-Null Count  Dtype  \n",
            "---  ------        --------------  -----  \n",
            " 0   Марка         35019 non-null  object \n",
            " 1   Год           35019 non-null  float64\n",
            " 2   Состояние     35019 non-null  object \n",
            " 3   Пробег        35019 non-null  float64\n",
            " 4   Объем         35019 non-null  float64\n",
            " 5   Топливо       35019 non-null  object \n",
            " 6   Мощность      35019 non-null  float64\n",
            " 7   Кузов         35019 non-null  object \n",
            " 8   Привод        35019 non-null  object \n",
            " 9   КПП           35019 non-null  object \n",
            " 10  Руль          35019 non-null  object \n",
            " 11  Хозяев в ПТС  35019 non-null  object \n",
            " 12  Цена          35019 non-null  float64\n",
            "dtypes: float64(5), object(8)\n",
            "memory usage: 3.7+ MB\n"
          ]
        }
      ]
    },
    {
      "cell_type": "code",
      "metadata": {
        "id": "KB5YoG9hDEms",
        "colab": {
          "base_uri": "https://localhost:8080/"
        },
        "outputId": "0fcecf7b-27cb-4745-c1e0-3275004593e7"
      },
      "source": [
        "df[\"Марка\"].value_counts()"
      ],
      "execution_count": 3,
      "outputs": [
        {
          "output_type": "execute_result",
          "data": {
            "text/plain": [
              "ВАЗ           5497\n",
              "Toyota        2700\n",
              "Nissan        2064\n",
              "Hyundai       1897\n",
              "Volkswagen    1885\n",
              "              ... \n",
              "Samand           1\n",
              "Hawtai           1\n",
              "Oldsmobile       1\n",
              "Changan          1\n",
              "Buick            1\n",
              "Name: Марка, Length: 92, dtype: int64"
            ]
          },
          "metadata": {},
          "execution_count": 3
        }
      ]
    },
    {
      "cell_type": "code",
      "metadata": {
        "id": "UHyKlfjjDEmt",
        "colab": {
          "base_uri": "https://localhost:8080/"
        },
        "outputId": "5910b372-766b-4a12-b89f-f5ee8e75ab3a"
      },
      "source": [
        "for cl in df.columns:\n",
        "    print(f\"{cl}: {df[cl].nunique()}\")"
      ],
      "execution_count": 4,
      "outputs": [
        {
          "output_type": "stream",
          "name": "stdout",
          "text": [
            "Марка: 92\n",
            "Год: 28\n",
            "Состояние: 1\n",
            "Пробег: 3443\n",
            "Объем: 45\n",
            "Топливо: 5\n",
            "Мощность: 303\n",
            "Кузов: 11\n",
            "Привод: 3\n",
            "КПП: 4\n",
            "Руль: 2\n",
            "Хозяев в ПТС: 3\n",
            "Цена: 1577\n"
          ]
        }
      ]
    },
    {
      "cell_type": "code",
      "metadata": {
        "id": "EByGKFU3DEmt"
      },
      "source": [
        "# Удалим строку состояние, так как данный признак не нужен\n",
        "\n",
        "df.drop(\"Состояние\", axis = 1, inplace = True)"
      ],
      "execution_count": 5,
      "outputs": []
    },
    {
      "cell_type": "code",
      "metadata": {
        "id": "4XKKZRX6DEmt",
        "colab": {
          "base_uri": "https://localhost:8080/"
        },
        "outputId": "e7789650-73b7-4426-ccbf-cf60bad37cf0"
      },
      "source": [
        "df.info()"
      ],
      "execution_count": 6,
      "outputs": [
        {
          "output_type": "stream",
          "name": "stdout",
          "text": [
            "<class 'pandas.core.frame.DataFrame'>\n",
            "Int64Index: 35019 entries, 0 to 61065\n",
            "Data columns (total 12 columns):\n",
            " #   Column        Non-Null Count  Dtype  \n",
            "---  ------        --------------  -----  \n",
            " 0   Марка         35019 non-null  object \n",
            " 1   Год           35019 non-null  float64\n",
            " 2   Пробег        35019 non-null  float64\n",
            " 3   Объем         35019 non-null  float64\n",
            " 4   Топливо       35019 non-null  object \n",
            " 5   Мощность      35019 non-null  float64\n",
            " 6   Кузов         35019 non-null  object \n",
            " 7   Привод        35019 non-null  object \n",
            " 8   КПП           35019 non-null  object \n",
            " 9   Руль          35019 non-null  object \n",
            " 10  Хозяев в ПТС  35019 non-null  object \n",
            " 11  Цена          35019 non-null  float64\n",
            "dtypes: float64(5), object(7)\n",
            "memory usage: 3.5+ MB\n"
          ]
        }
      ]
    },
    {
      "cell_type": "code",
      "metadata": {
        "id": "hcVFTp-oDEmu",
        "colab": {
          "base_uri": "https://localhost:8080/",
          "height": 892
        },
        "outputId": "85ee2081-3c84-4735-9d87-be56782452f3"
      },
      "source": [
        "hist = df.hist(figsize=(15,15))"
      ],
      "execution_count": 7,
      "outputs": [
        {
          "output_type": "display_data",
          "data": {
            "image/png": "[encoded data removed]",
            "text/plain": [
              "<Figure size 1080x1080 with 6 Axes>"
            ]
          },
          "metadata": {
            "needs_background": "light"
          }
        }
      ]
    },
    {
      "cell_type": "code",
      "metadata": {
        "id": "YdoxWuQUDEmu"
      },
      "source": [
        "numeric_df = [col for col in df.columns if df[col].dtype == \"float64\"]\n",
        "categorial_df = [col for col in df.columns if df[col].dtype == \"object\"]"
      ],
      "execution_count": 8,
      "outputs": []
    },
    {
      "cell_type": "code",
      "metadata": {
        "id": "LpqhG-V1DEmv"
      },
      "source": [
        "preprocessor = ColumnTransformer(transformers=[ \n",
        "        ('num', StandardScaler(), numeric_df),\n",
        "        ('cat', OneHotEncoder(handle_unknown='ignore'), categorial_df)])"
      ],
      "execution_count": 9,
      "outputs": []
    },
    {
      "cell_type": "code",
      "metadata": {
        "id": "kQy36sMoDEmv"
      },
      "source": [
        "prep_data = preprocessor.fit_transform(df).toarray()"
      ],
      "execution_count": 10,
      "outputs": []
    },
    {
      "cell_type": "code",
      "metadata": {
        "id": "xL1JiI_qDEmv"
      },
      "source": [
        "SSE = []\n",
        "list_k = list(range(1, 11))\n",
        "for k in list_k:\n",
        "    km = KMeans(n_clusters=k)\n",
        "    km.fit(prep_data)\n",
        "    SSE.append(km.inertia_)"
      ],
      "execution_count": 13,
      "outputs": []
    },
    {
      "cell_type": "code",
      "metadata": {
        "id": "gbjP3X-hDEmw",
        "colab": {
          "base_uri": "https://localhost:8080/",
          "height": 497
        },
        "outputId": "86f00458-ec39-4704-f6e8-4f897daa52fc"
      },
      "source": [
        "plt.figure(figsize=(8, 8))\n",
        "plt.plot(list_k, SSE, '-o')\n",
        "plt.xlabel(r'Number of clusters K')\n",
        "plt.ylabel('Sum of squared distance');"
      ],
      "execution_count": 14,
      "outputs": [
        {
          "output_type": "display_data",
          "data": {
            "image/png": "[encoded data removed]",
            "text/plain": [
              "<Figure size 576x576 with 1 Axes>"
            ]
          },
          "metadata": {
            "needs_background": "light"
          }
        }
      ]
    },
    {
      "cell_type": "code",
      "metadata": {
        "id": "aXw2rnXQDEmw"
      },
      "source": [
        "km = KMeans(n_clusters = 3)\n",
        "clusters = km.fit_predict(prep_data)\n",
        "df['cluster'] = clusters"
      ],
      "execution_count": 15,
      "outputs": []
    },
    {
      "cell_type": "code",
      "metadata": {
        "id": "mqBfSaK8DEmx"
      },
      "source": [
        "prep_df = df.copy(deep=True)\n",
        "labels = []\n",
        "\n",
        "for feature in categorial_df:\n",
        "    lenc = LabelEncoder()\n",
        "    prep_df[feature] = lenc.fit_transform(df[feature])\n",
        "    labels.append({i : f for i, f in enumerate(lenc.classes_.tolist())})"
      ],
      "execution_count": 16,
      "outputs": []
    },
    {
      "cell_type": "code",
      "metadata": {
        "id": "-dAkEnbeDEmx"
      },
      "source": [
        "result = prep_df.groupby(by=\"cluster\").median()\n",
        "for feature, dictionary in zip(categorial_df, labels):\n",
        "    result[feature] = result[feature].map(dictionary)"
      ],
      "execution_count": 17,
      "outputs": []
    },
    {
      "cell_type": "code",
      "metadata": {
        "id": "ouV6Q_ZmDEmx",
        "colab": {
          "base_uri": "https://localhost:8080/",
          "height": 172
        },
        "outputId": "d45fe78e-6d80-47f4-8580-541cdd434baa"
      },
      "source": [
        "# 1 кластер характеризует: Азиатские автомобили 2/3 поколения с малой мощностью двигателя за среднюю цену\n",
        "# 2 кластер характеризует: Премиум автомобили 2/3 поколения с автоматической коробкой передач за среднюю рыночную стоимость\n",
        "# 3 кластер характеризует: Старые французские или отечественные автомобили с 3+ владельцами за низкую стоимость\n",
        "\n",
        "result"
      ],
      "execution_count": 18,
      "outputs": [
        {
          "output_type": "execute_result",
          "data": {
            "text/html": [
              "<div>\n",
              "<style scoped>\n",
              "    .dataframe tbody tr th:only-of-type {\n",
              "        vertical-align: middle;\n",
              "    }\n",
              "\n",
              "    .dataframe tbody tr th {\n",
              "        vertical-align: top;\n",
              "    }\n",
              "\n",
              "    .dataframe thead th {\n",
              "        text-align: right;\n",
              "    }\n",
              "</style>\n",
              "<table border=\"1\" class=\"dataframe\">\n",
              "  <thead>\n",
              "    <tr style=\"text-align: right;\">\n",
              "      <th></th>\n",
              "      <th>Марка</th>\n",
              "      <th>Год</th>\n",
              "      <th>Пробег</th>\n",
              "      <th>Объем</th>\n",
              "      <th>Топливо</th>\n",
              "      <th>Мощность</th>\n",
              "      <th>Кузов</th>\n",
              "      <th>Привод</th>\n",
              "      <th>КПП</th>\n",
              "      <th>Руль</th>\n",
              "      <th>Хозяев в ПТС</th>\n",
              "      <th>Цена</th>\n",
              "    </tr>\n",
              "    <tr>\n",
              "      <th>cluster</th>\n",
              "      <th></th>\n",
              "      <th></th>\n",
              "      <th></th>\n",
              "      <th></th>\n",
              "      <th></th>\n",
              "      <th></th>\n",
              "      <th></th>\n",
              "      <th></th>\n",
              "      <th></th>\n",
              "      <th></th>\n",
              "      <th></th>\n",
              "      <th></th>\n",
              "    </tr>\n",
              "  </thead>\n",
              "  <tbody>\n",
              "    <tr>\n",
              "      <th>0</th>\n",
              "      <td>Nissan</td>\n",
              "      <td>2011.0</td>\n",
              "      <td>82000.0</td>\n",
              "      <td>1600.0</td>\n",
              "      <td>бензин</td>\n",
              "      <td>107.0</td>\n",
              "      <td>седан</td>\n",
              "      <td>передний</td>\n",
              "      <td>механика</td>\n",
              "      <td>левый</td>\n",
              "      <td>2 владельца</td>\n",
              "      <td>400000.0</td>\n",
              "    </tr>\n",
              "    <tr>\n",
              "      <th>1</th>\n",
              "      <td>Peugeot</td>\n",
              "      <td>2003.0</td>\n",
              "      <td>180000.0</td>\n",
              "      <td>1600.0</td>\n",
              "      <td>бензин</td>\n",
              "      <td>102.0</td>\n",
              "      <td>седан</td>\n",
              "      <td>передний</td>\n",
              "      <td>механика</td>\n",
              "      <td>левый</td>\n",
              "      <td>3 и более</td>\n",
              "      <td>180000.0</td>\n",
              "    </tr>\n",
              "    <tr>\n",
              "      <th>2</th>\n",
              "      <td>Mercedes-Benz</td>\n",
              "      <td>2010.0</td>\n",
              "      <td>105000.0</td>\n",
              "      <td>2500.0</td>\n",
              "      <td>бензин</td>\n",
              "      <td>201.0</td>\n",
              "      <td>кроссовер</td>\n",
              "      <td>полный</td>\n",
              "      <td>автомат</td>\n",
              "      <td>левый</td>\n",
              "      <td>2 владельца</td>\n",
              "      <td>950000.0</td>\n",
              "    </tr>\n",
              "  </tbody>\n",
              "</table>\n",
              "</div>"
            ],
            "text/plain": [
              "                 Марка     Год    Пробег  ...   Руль Хозяев в ПТС      Цена\n",
              "cluster                                   ...                              \n",
              "0               Nissan  2011.0   82000.0  ...  левый  2 владельца  400000.0\n",
              "1              Peugeot  2003.0  180000.0  ...  левый    3 и более  180000.0\n",
              "2        Mercedes-Benz  2010.0  105000.0  ...  левый  2 владельца  950000.0\n",
              "\n",
              "[3 rows x 12 columns]"
            ]
          },
          "metadata": {},
          "execution_count": 18
        }
      ]
    }
  ]
}
