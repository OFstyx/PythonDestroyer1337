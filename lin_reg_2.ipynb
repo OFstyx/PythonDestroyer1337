{
 "cells": [
  {
   "cell_type": "markdown",
   "metadata": {},
   "source": [
    "# Задача 2"
   ]
  },
  {
   "cell_type": "code",
   "execution_count": 178,
   "metadata": {},
   "outputs": [],
   "source": [
    "import numpy as np\n",
    "import pandas as pd\n",
    "import matplotlib.pyplot as plt\n",
    "from sklearn import datasets, linear_model\n",
    "from sklearn.metrics import mean_squared_error, r2_score\n",
    "from sklearn.model_selection import train_test_split"
   ]
  },
  {
   "cell_type": "code",
   "execution_count": 179,
   "metadata": {},
   "outputs": [],
   "source": [
    "X_train, X_test, y_train, y_test = train_test_split(diabetes.data, diabetes.target, test_size=0.8, random_state=0)"
   ]
  },
  {
   "cell_type": "markdown",
   "metadata": {},
   "source": [
    "# Линейная регрессия"
   ]
  },
  {
   "cell_type": "code",
   "execution_count": 180,
   "metadata": {},
   "outputs": [],
   "source": [
    "lireg=linear_model.LinearRegression().fit(X_train,y_train)"
   ]
  },
  {
   "cell_type": "code",
   "execution_count": 181,
   "metadata": {},
   "outputs": [],
   "source": [
    "y_pred = lireg.predict(X_test)\n",
    "mse = np.mean( (y_pred - y_test) ** 2)\n",
    "score = lireg.score(X_test, y_test)"
   ]
  },
  {
   "cell_type": "code",
   "execution_count": 182,
   "metadata": {},
   "outputs": [
    {
     "name": "stdout",
     "output_type": "stream",
     "text": [
      "Коэффициенты:  [  -6.92791214 -261.90320276  672.08752531  251.15776027  334.94666979\n",
      " -389.4469787  -468.47100766 -100.63001358  561.4986084   -29.06277576]\n"
     ]
    }
   ],
   "source": [
    "print(\"Коэффициенты: \", lireg.coef_)"
   ]
  },
  {
   "cell_type": "code",
   "execution_count": 183,
   "metadata": {},
   "outputs": [
    {
     "name": "stdout",
     "output_type": "stream",
     "text": [
      "Линейная регрессия\n",
      "MSE 3185.85\n",
      "Variance score: 0.44\n"
     ]
    }
   ],
   "source": [
    "print(\"Линейная регрессия\")\n",
    "print(\"MSE %.2f\" % mse)\n",
    "print(\"Variance score: %.2f\" % score)"
   ]
  },
  {
   "cell_type": "markdown",
   "metadata": {},
   "source": [
    "# Ridge"
   ]
  },
  {
   "cell_type": "code",
   "execution_count": 184,
   "metadata": {},
   "outputs": [],
   "source": [
    "model_ridge=linear_model.Ridge(alpha = 0.1).fit(X_train,y_train)"
   ]
  },
  {
   "cell_type": "code",
   "execution_count": 185,
   "metadata": {},
   "outputs": [],
   "source": [
    "y_pred = model_ridge.predict(X_test)\n",
    "mse = np.mean( (y_pred - y_test) ** 2)\n",
    "score = model_ridge.score(X_test, y_test)"
   ]
  },
  {
   "cell_type": "code",
   "execution_count": 186,
   "metadata": {},
   "outputs": [
    {
     "name": "stdout",
     "output_type": "stream",
     "text": [
      "Коэффициенты:  [  24.65392148 -148.73236167  429.98056486  197.27454614   40.48890331\n",
      "  -62.21395316 -212.65256411  151.52688643  418.61874992   52.71695927]\n"
     ]
    }
   ],
   "source": [
    "print(\"Коэффициенты: \", model_ridge.coef_)"
   ]
  },
  {
   "cell_type": "code",
   "execution_count": 187,
   "metadata": {},
   "outputs": [
    {
     "name": "stdout",
     "output_type": "stream",
     "text": [
      "Линейная регрессия\n",
      "MSE 3082.99\n",
      "Variance score: 0.46\n"
     ]
    }
   ],
   "source": [
    "print(\"Линейная регрессия\")\n",
    "print(\"MSE %.2f\" % mse)\n",
    "print(\"Variance score: %.2f\" % score)"
   ]
  },
  {
   "cell_type": "markdown",
   "metadata": {},
   "source": [
    "# Lasso"
   ]
  },
  {
   "cell_type": "code",
   "execution_count": 188,
   "metadata": {},
   "outputs": [],
   "source": [
    "model_lasso=linear_model.Lasso(alpha = 0.1).fit(X_train,y_train)"
   ]
  },
  {
   "cell_type": "code",
   "execution_count": 189,
   "metadata": {},
   "outputs": [],
   "source": [
    "y_pred = model_lasso.predict(X_test)\n",
    "mse = np.mean( (y_pred - y_test) ** 2)\n",
    "score = model_lasso.score(X_test, y_test)"
   ]
  },
  {
   "cell_type": "code",
   "execution_count": 190,
   "metadata": {},
   "outputs": [
    {
     "name": "stdout",
     "output_type": "stream",
     "text": [
      "Коэффициенты:  [  -0.         -195.18747079  622.29787523  193.53965662   -0.\n",
      "  -56.04919911 -223.48292811    0.          650.69976584   -0.        ]\n"
     ]
    }
   ],
   "source": [
    "print(\"Коэффициенты: \", model_lasso.coef_)"
   ]
  },
  {
   "cell_type": "code",
   "execution_count": 191,
   "metadata": {},
   "outputs": [
    {
     "name": "stdout",
     "output_type": "stream",
     "text": [
      "Линейная регрессия\n",
      "MSE 3102.64\n",
      "Variance score: 0.46\n"
     ]
    }
   ],
   "source": [
    "print(\"Линейная регрессия\")\n",
    "print(\"MSE %.2f\" % mse)\n",
    "print(\"Variance score: %.2f\" % score)"
   ]
  },
  {
   "cell_type": "markdown",
   "metadata": {},
   "source": [
    "# ElasticNet"
   ]
  },
  {
   "cell_type": "code",
   "execution_count": 192,
   "metadata": {},
   "outputs": [
    {
     "data": {
      "text/plain": [
       "False"
      ]
     },
     "execution_count": 192,
     "metadata": {},
     "output_type": "execute_result"
    }
   ],
   "source": [
    "model_elastic==linear_model.ElasticNet(alpha = 0.1, l1_ratio = 0.9).fit(X_train,y_train)"
   ]
  },
  {
   "cell_type": "code",
   "execution_count": 193,
   "metadata": {},
   "outputs": [],
   "source": [
    "y_pred = model_elastic.predict(X_test)\n",
    "mse = np.mean( (y_pred - y_test) ** 2)\n",
    "score = model_elastic.score(X_test, y_test)"
   ]
  },
  {
   "cell_type": "code",
   "execution_count": 194,
   "metadata": {},
   "outputs": [
    {
     "name": "stdout",
     "output_type": "stream",
     "text": [
      "Коэффициенты:  [ 38.22620231  -4.75842324 141.71226944  91.65587511  49.18799502\n",
      "  26.77620653 -99.38964289 112.13425869 156.82861294  69.22724482]\n"
     ]
    }
   ],
   "source": [
    "print(\"Коэффициенты: \", model_elastic.coef_)"
   ]
  },
  {
   "cell_type": "code",
   "execution_count": 195,
   "metadata": {},
   "outputs": [
    {
     "name": "stdout",
     "output_type": "stream",
     "text": [
      "Линейная регрессия\n",
      "MSE 4004.45\n",
      "Variance score: 0.30\n"
     ]
    }
   ],
   "source": [
    "print(\"Линейная регрессия\")\n",
    "print(\"MSE %.2f\" % mse)\n",
    "print(\"Variance score: %.2f\" % score)"
   ]
  },
  {
   "cell_type": "markdown",
   "metadata": {},
   "source": [
    "# Вывод"
   ]
  },
  {
   "cell_type": "markdown",
   "metadata": {},
   "source": [
    "Mean Square Error — средний квадрат ошибки определения какой-либо величины, квадратный корень из MSE есть среднеквадратическое отклонение определяемой величины от её математического ожидания. Сравнивая значения MSE, можно сказать, что Ridge Regression(со значением MSE 3082.99) показала себя наилучшим образом, а ElasticNet же (со значением 4004.45), наоборот, худшим."
   ]
  },
  {
   "cell_type": "code",
   "execution_count": null,
   "metadata": {},
   "outputs": [],
   "source": []
  }
 ],
 "metadata": {
  "kernelspec": {
   "display_name": "Python 3",
   "language": "python",
   "name": "python3"
  },
  "language_info": {
   "codemirror_mode": {
    "name": "ipython",
    "version": 3
   },
   "file_extension": ".py",
   "mimetype": "text/x-python",
   "name": "python",
   "nbconvert_exporter": "python",
   "pygments_lexer": "ipython3",
   "version": "3.8.5"
  }
 },
 "nbformat": 4,
 "nbformat_minor": 4
}
